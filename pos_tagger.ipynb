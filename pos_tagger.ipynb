{
 "cells": [
  {
   "cell_type": "code",
   "execution_count": 1,
   "metadata": {},
   "outputs": [],
   "source": [
    "import tensorflow as tf\n",
    "import numpy as np\n",
    "import pickle\n",
    "import os\n",
    "import memory_profiler\n",
    "from tensorflow.models.rnn import rnn, rnn_cell\n",
    "from tensorflow.models.embedding import word2vec_optimized as w2v\n",
    "from nltk.corpus import brown"
   ]
  },
  {
   "cell_type": "code",
   "execution_count": 3,
   "metadata": {},
   "outputs": [],
   "source": [
    "''' Paths to the embeddings model '''\n",
    "embeddings_save_path = \"/home/alexander/dev/projects/BAN/word-embeddings/model-en/\"\n",
    "#embeddings_save_path = \"/home/user/dev/neural-pos-tagger/word-embeddings/word-embeddings/model-en/\"\n",
    "embeddings_train_data = \"/home/alexander/dev/projects/BAN/word-embeddings/text8\"\n",
    "#embeddings_train_data = \"/home/user/dev/neural-pos-tagger/word-embeddings/word-embeddings/text8\"\n",
    "embeddings_eval_data = \"/home/alexander/dev/projects/BAN/word-embeddings/analogies-en.txt\"\n",
    "#embeddings_eval_data = \"/home/user/dev/neural-pos-tagger/word-embeddings/word-embeddings/analogies-en.txt\""
   ]
  },
  {
   "cell_type": "code",
   "execution_count": 5,
   "metadata": {},
   "outputs": [
    {
     "name": "stdout",
     "output_type": "stream",
     "text": [
      "/home/alexander/dev/projects/BAN/word-embeddings/model-en/\n"
     ]
    }
   ],
   "source": [
    ""
   ]
  },
  {
   "cell_type": "code",
   "execution_count": null,
   "metadata": {},
   "outputs": [],
   "source": [
    ""
   ]
  }
 ],
 "metadata": {},
 "nbformat": 4,
 "nbformat_minor": 0
}